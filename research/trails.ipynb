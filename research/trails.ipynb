{
 "cells": [
  {
   "cell_type": "markdown",
   "metadata": {},
   "source": [
    "### Downloading Dataset from GDrive"
   ]
  },
  {
   "cell_type": "code",
   "execution_count": 1,
   "metadata": {},
   "outputs": [],
   "source": [
    "import gdown\n",
    "\n",
    "url = 'https://drive.google.com/file/d/18JJ5SvjkqQvRgcSwqAUCSygnDnM8wfwj/view?usp=drive_link'"
   ]
  },
  {
   "cell_type": "code",
   "execution_count": 2,
   "metadata": {},
   "outputs": [
    {
     "data": {
      "text/plain": [
       "'18JJ5SvjkqQvRgcSwqAUCSygnDnM8wfwj'"
      ]
     },
     "execution_count": 2,
     "metadata": {},
     "output_type": "execute_result"
    }
   ],
   "source": [
    "file_id = url.split(\"/\")[-2]\n",
    "file_id"
   ]
  },
  {
   "cell_type": "code",
   "execution_count": 3,
   "metadata": {},
   "outputs": [
    {
     "name": "stderr",
     "output_type": "stream",
     "text": [
      "Downloading...\n",
      "From (original): https://drive.google.com/uc?/export=download&id=18JJ5SvjkqQvRgcSwqAUCSygnDnM8wfwj\n",
      "From (redirected): https://drive.google.com/uc?%2Fexport=download&id=18JJ5SvjkqQvRgcSwqAUCSygnDnM8wfwj&confirm=t&uuid=cd5bd713-d495-4f90-9a11-fd4d33ebf34b\n",
      "To: c:\\Users\\Sneha\\Documents\\Projects\\KidneyNet\\research\\Kidney-CT-Scan-data.zip\n",
      "100%|██████████| 1.63G/1.63G [02:05<00:00, 13.0MB/s]\n"
     ]
    },
    {
     "data": {
      "text/plain": [
       "'Kidney-CT-Scan-data.zip'"
      ]
     },
     "execution_count": 3,
     "metadata": {},
     "output_type": "execute_result"
    }
   ],
   "source": [
    "prefix = 'https://drive.google.com/uc?/export=download&id='\n",
    "gdown.download(prefix+file_id, \"Kidney-CT-Scan-data.zip\")"
   ]
  }
 ],
 "metadata": {
  "kernelspec": {
   "display_name": "kidney",
   "language": "python",
   "name": "python3"
  },
  "language_info": {
   "codemirror_mode": {
    "name": "ipython",
    "version": 3
   },
   "file_extension": ".py",
   "mimetype": "text/x-python",
   "name": "python",
   "nbconvert_exporter": "python",
   "pygments_lexer": "ipython3",
   "version": "3.8.0"
  }
 },
 "nbformat": 4,
 "nbformat_minor": 2
}
